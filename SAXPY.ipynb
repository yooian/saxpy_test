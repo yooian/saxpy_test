{
  "nbformat": 4,
  "nbformat_minor": 0,
  "metadata": {
    "colab": {
      "provenance": [],
      "gpuType": "T4",
      "authorship_tag": "ABX9TyPLHR/YqUt7lFj7VEHoEbN6",
      "include_colab_link": true
    },
    "kernelspec": {
      "name": "python3",
      "display_name": "Python 3"
    },
    "language_info": {
      "name": "python"
    },
    "accelerator": "GPU"
  },
  "cells": [
    {
      "cell_type": "markdown",
      "metadata": {
        "id": "view-in-github",
        "colab_type": "text"
      },
      "source": [
        "<a href=\"https://colab.research.google.com/github/yooian/saxpy_test/blob/main/SAXPY.ipynb\" target=\"_parent\"><img src=\"https://colab.research.google.com/assets/colab-badge.svg\" alt=\"Open In Colab\"/></a>"
      ]
    },
    {
      "cell_type": "code",
      "execution_count": 1,
      "metadata": {
        "colab": {
          "base_uri": "https://localhost:8080/"
        },
        "id": "eoKGREvtQxR3",
        "outputId": "054922ac-e75b-4b54-ffea-e9b84f311175"
      },
      "outputs": [
        {
          "output_type": "stream",
          "name": "stdout",
          "text": [
            "Tue Aug 19 21:38:28 2025       \n",
            "+-----------------------------------------------------------------------------------------+\n",
            "| NVIDIA-SMI 550.54.15              Driver Version: 550.54.15      CUDA Version: 12.4     |\n",
            "|-----------------------------------------+------------------------+----------------------+\n",
            "| GPU  Name                 Persistence-M | Bus-Id          Disp.A | Volatile Uncorr. ECC |\n",
            "| Fan  Temp   Perf          Pwr:Usage/Cap |           Memory-Usage | GPU-Util  Compute M. |\n",
            "|                                         |                        |               MIG M. |\n",
            "|=========================================+========================+======================|\n",
            "|   0  Tesla T4                       Off |   00000000:00:04.0 Off |                    0 |\n",
            "| N/A   48C    P8             10W /   70W |       0MiB /  15360MiB |      0%      Default |\n",
            "|                                         |                        |                  N/A |\n",
            "+-----------------------------------------+------------------------+----------------------+\n",
            "                                                                                         \n",
            "+-----------------------------------------------------------------------------------------+\n",
            "| Processes:                                                                              |\n",
            "|  GPU   GI   CI        PID   Type   Process name                              GPU Memory |\n",
            "|        ID   ID                                                               Usage      |\n",
            "|=========================================================================================|\n",
            "|  No running processes found                                                             |\n",
            "+-----------------------------------------------------------------------------------------+\n"
          ]
        }
      ],
      "source": [
        "!nvidia-smi"
      ]
    },
    {
      "cell_type": "code",
      "source": [
        "%%writefile saxpy_cpu.cpp\n",
        "\n",
        "#include <iostream>\n",
        "#include <vector>\n",
        "#include <chrono> // for timing\n",
        "\n",
        "// Simple single-thread CPU version of SAXPY\n",
        "void saxpy_cpu(int n, float a, float* x, float* y) {\n",
        "  for (int i = 0; i < n; ++i) {\n",
        "    y[i] = a * x[i] + y[i];\n",
        "  }\n",
        "}\n",
        "\n",
        "int main() {\n",
        "  int n = 1 << 24; // large vector for meaningful perf\n",
        "\n",
        "  std::vector<float> x(n, 1.0f);\n",
        "  std::vector<float> y(n, 2.0f);\n",
        "  float a = 3.0f;\n",
        "\n",
        "  // timing\n",
        "  auto start = std::chrono::high_resolution_clock::now();\n",
        "  saxpy_cpu(n, a, x.data(), y.data());\n",
        "  auto stop = std::chrono::high_resolution_clock::now();\n",
        "  std::chrono::duration<double, std::milli> duration = stop - start;\n",
        "\n",
        "  std::cout << \"CPU time: \" << duration.count() << \" ms\\n\";\n",
        "\n",
        "  // check\n",
        "  // each y element should be 3.0 * 1.0 + 2.0 = 5.0\n",
        "  float maxError = 0.0f;\n",
        "  for (int i = 0; i < n; ++i) {\n",
        "    maxError = std::max(maxError, std::abs(y[i] - 5.0f));\n",
        "  }\n",
        "\n",
        "  std::cout << \"Max error: \" << maxError << std::endl;\n",
        "\n",
        "  return 0;\n",
        "}"
      ],
      "metadata": {
        "colab": {
          "base_uri": "https://localhost:8080/"
        },
        "id": "WEMYRplRTLSa",
        "outputId": "2bbeb546-9793-4050-ce35-b614f4416566"
      },
      "execution_count": 12,
      "outputs": [
        {
          "output_type": "stream",
          "name": "stdout",
          "text": [
            "Overwriting saxpy_cpu.cpp\n"
          ]
        }
      ]
    },
    {
      "cell_type": "code",
      "source": [
        "!g++ -O3 -o saxpy_cpu saxpy_cpu.cpp && ./saxpy_cpu"
      ],
      "metadata": {
        "colab": {
          "base_uri": "https://localhost:8080/"
        },
        "id": "Hh_wFbFZU_Ho",
        "outputId": "1eb1a0f8-a22b-4a85-fa47-67c41f8288c2"
      },
      "execution_count": 13,
      "outputs": [
        {
          "output_type": "stream",
          "name": "stdout",
          "text": [
            "CPU time: 11.4273 ms\n",
            "Max error: 0\n"
          ]
        }
      ]
    },
    {
      "cell_type": "code",
      "source": [
        "%%writefile saxpy_gpu.cu\n",
        "\n",
        "#include <iostream>\n",
        "#include <vector>\n",
        "\n",
        "__global__ void saxpy_kernel(int n, float a, float* x, float* y) {\n",
        "  int i = blockIdx.x * blockDim.x + threadIdx.x; // offset\n",
        "\n",
        "  // boundary check\n",
        "  if (i < n) {\n",
        "    y[i] = a * x[i] + y[i];\n",
        "  }\n",
        "}\n",
        "\n",
        "int main() {\n",
        "  int n = 1 << 24;\n",
        "  size_t bytes = n * sizeof(float);\n",
        "\n",
        "  // Allocate Host Memory\n",
        "  // create vectors on cpu (host)\n",
        "  std::vector<float> h_x(n, 1.0f);\n",
        "  std::vector<float> h_y(n, 2.0f);\n",
        "\n",
        "  // Allocate Device Memory\n",
        "  float *d_x, *d_y;\n",
        "  cudaMalloc(&d_x, bytes);\n",
        "  cudaMalloc(&d_y, bytes);\n",
        "\n",
        "  // Copy Data from Host to Device (CPU to GPU)\n",
        "  // happens on PCIe bus == sloww\n",
        "  cudaMemcpy(d_x, h_x.data(), bytes, cudaMemcpyHostToDevice);\n",
        "  cudaMemcpy(d_y, h_y.data(), bytes, cudaMemcpyHostToDevice);\n",
        "\n",
        "  // Configure and Launch Kernel\n",
        "  // need # of threads, and arrange it in grid of blocks\n",
        "  int blockSize = 256;\n",
        "  int gridSize = (n + blockSize - 1) / blockSize;\n",
        "\n",
        "  // kernel launch\n",
        "  saxpy_kernel<<<gridSize, blockSize>>>(n, 3.0f, d_x, d_y);\n",
        "\n",
        "  // Copy results back\n",
        "  std::vector<float> h_result_y(n);\n",
        "  cudaMemcpy(h_result_y.data(), d_y, bytes, cudaMemcpyDeviceToHost);\n",
        "\n",
        "  // Verify\n",
        "  float maxError = 0.0f;\n",
        "  for (int i = 0; i < n; ++i) {\n",
        "    maxError = std::max(maxError, std::abs(h_result_y[i] - 5.0f));\n",
        "  }\n",
        "  std::cout << \"Max GPU error: \" << maxError << std::endl;\n",
        "\n",
        "  // Free Memory\n",
        "  cudaFree(d_x);\n",
        "  cudaFree(d_y);\n",
        "\n",
        "  return 0;\n",
        "}"
      ],
      "metadata": {
        "colab": {
          "base_uri": "https://localhost:8080/"
        },
        "id": "dt8HmFhPVJBj",
        "outputId": "3b5112f5-887d-4d94-baf8-186261f36bad"
      },
      "execution_count": 15,
      "outputs": [
        {
          "output_type": "stream",
          "name": "stdout",
          "text": [
            "Writing saxpy_gpu.cu\n"
          ]
        }
      ]
    },
    {
      "cell_type": "code",
      "source": [
        "!nvcc -o saxpy_gpu saxpy_gpu.cu && ./saxpy_gpu"
      ],
      "metadata": {
        "colab": {
          "base_uri": "https://localhost:8080/"
        },
        "id": "-ne7hJXFbtF6",
        "outputId": "54429ce0-3149-4936-9b68-cbe49626d4e6"
      },
      "execution_count": 17,
      "outputs": [
        {
          "output_type": "stream",
          "name": "stdout",
          "text": [
            "Max GPU error: 3\n"
          ]
        }
      ]
    },
    {
      "cell_type": "code",
      "source": [
        "!nvprof ./saxpy_gpu"
      ],
      "metadata": {
        "colab": {
          "base_uri": "https://localhost:8080/"
        },
        "id": "Izh_mal9b_W7",
        "outputId": "79f324c2-fe31-451b-c371-aea8c1e8e743"
      },
      "execution_count": 18,
      "outputs": [
        {
          "output_type": "stream",
          "name": "stdout",
          "text": [
            "==12221== NVPROF is profiling process 12221, command: ./saxpy_gpu\n",
            "Max GPU error: 3\n",
            "==12221== Profiling application: ./saxpy_gpu\n",
            "==12221== Profiling result:\n",
            "            Type  Time(%)      Time     Calls       Avg       Min       Max  Name\n",
            " GPU activities:   67.49%  28.707ms         2  14.353ms  14.147ms  14.559ms  [CUDA memcpy HtoD]\n",
            "                   32.51%  13.831ms         1  13.831ms  13.831ms  13.831ms  [CUDA memcpy DtoH]\n",
            "      API calls:   78.92%  211.22ms         2  105.61ms  104.06us  211.12ms  cudaMalloc\n",
            "                   16.18%  43.298ms         3  14.433ms  14.196ms  14.740ms  cudaMemcpy\n",
            "                    4.28%  11.458ms         1  11.458ms  11.458ms  11.458ms  cudaLaunchKernel\n",
            "                    0.55%  1.4689ms         2  734.47us  288.39us  1.1805ms  cudaFree\n",
            "                    0.07%  176.21us       114  1.5450us     198ns  70.123us  cuDeviceGetAttribute\n",
            "                    0.01%  14.471us         1  14.471us  14.471us  14.471us  cuDeviceGetName\n",
            "                    0.00%  6.2690us         1  6.2690us  6.2690us  6.2690us  cuDeviceGetPCIBusId\n",
            "                    0.00%  2.1500us         3     716ns     225ns  1.6780us  cuDeviceGetCount\n",
            "                    0.00%     899ns         2     449ns     191ns     708ns  cuDeviceGet\n",
            "                    0.00%     734ns         1     734ns     734ns     734ns  cuDeviceTotalMem\n",
            "                    0.00%     525ns         1     525ns     525ns     525ns  cuModuleGetLoadingMode\n",
            "                    0.00%     358ns         1     358ns     358ns     358ns  cuDeviceGetUuid\n"
          ]
        }
      ]
    }
  ]
}